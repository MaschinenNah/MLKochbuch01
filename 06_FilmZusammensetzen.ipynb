{
  "nbformat": 4,
  "nbformat_minor": 0,
  "metadata": {
    "colab": {
      "name": "FilmZusammensetzen.ipynb",
      "provenance": [],
      "collapsed_sections": [],
      "toc_visible": true,
      "authorship_tag": "ABX9TyNEa2wn7xiTdT25aOgwpC+h",
      "include_colab_link": true
    },
    "kernelspec": {
      "name": "python3",
      "display_name": "Python 3"
    }
  },
  "cells": [
    {
      "cell_type": "markdown",
      "metadata": {
        "id": "view-in-github",
        "colab_type": "text"
      },
      "source": [
        "<a href=\"https://colab.research.google.com/github/MaschinenNah/MachineLearningKochbuch01/blob/main/06_FilmZusammensetzen.ipynb\" target=\"_parent\"><img src=\"https://colab.research.google.com/assets/colab-badge.svg\" alt=\"Open In Colab\"/></a>"
      ]
    },
    {
      "cell_type": "markdown",
      "metadata": {
        "id": "kfHsXiwIbgFC"
      },
      "source": [
        "# Aus einzelnen Bildern einen Film zusammensetzen"
      ]
    },
    {
      "cell_type": "markdown",
      "metadata": {
        "id": "ETGK7XPGbpFF"
      },
      "source": [
        "Hier erzeugen wir zunächst zwei NumPy Arrays, die jeweils ein komplett weißes und ein komplett schwarzes Bild (400x300 Pixel) repräsentieren."
      ]
    },
    {
      "cell_type": "code",
      "metadata": {
        "colab": {
          "base_uri": "https://localhost:8080/",
          "height": 521
        },
        "id": "VSK-vImWolts",
        "outputId": "dae21e55-5b42-46e7-e54e-6b0e5da10b58"
      },
      "source": [
        "import numpy as np\n",
        "from matplotlib import pyplot as plt\n",
        "\n",
        "width, height = 400, 300\n",
        "\n",
        "black_image = np.zeros((height, width, 3), \"uint8\")\n",
        "white_image = black_image + 255\n",
        "\n",
        "plt.imshow(black_image)\n",
        "plt.show()\n",
        "plt.imshow(white_image)\n",
        "plt.show()"
      ],
      "execution_count": null,
      "outputs": [
        {
          "output_type": "display_data",
          "data": {
            "image/png": "[encoded data removed]",
            "text/plain": [
              "<Figure size 432x288 with 1 Axes>"
            ]
          },
          "metadata": {
            "tags": [],
            "needs_background": "light"
          }
        },
        {
          "output_type": "display_data",
          "data": {
            "image/png": "[encoded data removed]",
            "text/plain": [
              "<Figure size 432x288 with 1 Axes>"
            ]
          },
          "metadata": {
            "tags": [],
            "needs_background": "light"
          }
        }
      ]
    },
    {
      "cell_type": "markdown",
      "metadata": {
        "id": "-soldIIQb8QA"
      },
      "source": [
        "Das Zusammenbauen des Films erledigt der `cv2.VideoWriter`.\n",
        "\n",
        "Nach dem Ausführen der folgenden Code-Zelle findet ihr eine mp4-Datei im Dateien-Bereich, der eine Sekunde dauert und (Achtung) zehnmal flackert."
      ]
    },
    {
      "cell_type": "code",
      "metadata": {
        "id": "d_VPC_Zuqqtj"
      },
      "source": [
        "from cv2 import VideoWriter\n",
        "import cv2\n",
        "\n",
        "# Abmessungen und Bildrate:\n",
        "width, height = 400, 300\n",
        "frame_rate = 10\n",
        "\n",
        "# Der Codec. Mit diesem hier haben wir gute Erfahrungen gemacht:\n",
        "codec = cv2.VideoWriter_fourcc(*'mp4v')\n",
        "\n",
        "# So initialisieren wir den VideoWriter.\n",
        "# Das erste Argument bestimmt den Pfad zur Ausgabedatei.\n",
        "# Achtung: Die Abmessungen werden hier in der üblichen Reihenfolge geschrieben,\n",
        "# also (Breite, Höhe) - also nicht so, wie wir es von NumPy Arrays gewohnt sind.\n",
        "out = VideoWriter('movie.mp4', codec, frame_rate, (width, height))\n",
        "\n",
        "# Mit out.write() schreiben wir jeweils ein passendes NumPy Array in den Ausgabestrom:\n",
        "out.write(black_image)\n",
        "out.write(white_image)\n",
        "out.write(black_image)\n",
        "out.write(white_image)\n",
        "out.write(black_image)\n",
        "out.write(white_image)\n",
        "out.write(black_image)\n",
        "out.write(white_image)\n",
        "out.write(black_image)\n",
        "out.write(white_image)\n",
        "out.write(black_image)\n",
        "out.write(white_image)\n",
        "\n",
        "out.release()\n",
        "cv2.destroyAllWindows()"
      ],
      "execution_count": null,
      "outputs": []
    },
    {
      "cell_type": "markdown",
      "metadata": {
        "id": "vUageWaLfTNP"
      },
      "source": [
        "## Einen Film aus NumPy Arrays vom Typ float32 bauen.\n",
        "\n",
        "Im vorherigen Beispiel waren die Arrays bereits vom Typ `uint8` und mit einem Wertebereich von 0-255.\n",
        "\n",
        "Die Ausgaben von Modellen sind aber, wenn Sie Bilder repräsentieren, in der Regeln vom Typ `float32` und spielen im Wertebereich von 0.0 - 1.0.\n",
        "\n",
        "`plt.imshow()` versteht den Unterschied:"
      ]
    },
    {
      "cell_type": "code",
      "metadata": {
        "colab": {
          "base_uri": "https://localhost:8080/",
          "height": 521
        },
        "id": "rjfORctXfsa0",
        "outputId": "2582634e-56e5-429d-a7a3-8a88fb6016a2"
      },
      "source": [
        "width, height = 400, 300\n",
        "\n",
        "black_image = np.zeros((height, width, 3), \"float32\")\n",
        "white_image = black_image + 1.0\n",
        "\n",
        "plt.imshow(black_image)\n",
        "plt.show()\n",
        "plt.imshow(white_image)\n",
        "plt.show()"
      ],
      "execution_count": null,
      "outputs": [
        {
          "output_type": "display_data",
          "data": {
            "image/png": "[encoded data removed]",
            "text/plain": [
              "<Figure size 432x288 with 1 Axes>"
            ]
          },
          "metadata": {
            "tags": [],
            "needs_background": "light"
          }
        },
        {
          "output_type": "display_data",
          "data": {
            "image/png": "[encoded data removed]",
            "text/plain": [
              "<Figure size 432x288 with 1 Axes>"
            ]
          },
          "metadata": {
            "tags": [],
            "needs_background": "light"
          }
        }
      ]
    },
    {
      "cell_type": "markdown",
      "metadata": {
        "id": "CxIPFUpVgPUR"
      },
      "source": [
        "Der `VideoWriter` akzeptiert das `float32` Array allerdings nicht:"
      ]
    },
    {
      "cell_type": "code",
      "metadata": {
        "id": "vIwb_V98gAd2"
      },
      "source": [
        "width, height = 400, 300\n",
        "frame_rate = 10\n",
        "\n",
        "codec = cv2.VideoWriter_fourcc(*'mp4v')\n",
        "\n",
        "out = VideoWriter('movie_from_float32.mp4', codec, frame_rate, (width, height))\n",
        "\n",
        "# Diese Zeile schmeißt einen Fehler:\n",
        "# out.write(black_image)\n",
        "# ... error: (-215:Assertion failed) image.depth() == CV_8U in function 'write'\n",
        "\n",
        "# So funktionierts:\n",
        "black_image = (black_image * 255.0).astype(\"uint8\")\n",
        "white_image = (white_image * 255.0).astype(\"uint8\")\n",
        "# P.S.: Das ist das Gegenstück zur Umwandlung von uint8 in float32,\n",
        "# wie wir es im Rezept \"Bilddateien in NumPy Arrays umwandeln\" gezeigt haben.\n",
        "# P.P.S.: Wenn wir NumPy Arrays mit PIL als Bilddateien automatisch spreichern,\n",
        "# müssen wir diese Umwandlung nicht machen, das erledigt PIL im Hintergrund.\n",
        "\n",
        "for _ in range(5):\n",
        "  out.write(black_image)\n",
        "  out.write(white_image)\n",
        "\n",
        "out.release()\n",
        "cv2.destroyAllWindows()"
      ],
      "execution_count": null,
      "outputs": []
    }
  ]
}