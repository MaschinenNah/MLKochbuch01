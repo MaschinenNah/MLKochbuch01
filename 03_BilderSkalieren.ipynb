{
  "nbformat": 4,
  "nbformat_minor": 0,
  "metadata": {
    "colab": {
      "name": "BilderSkalieren.ipynb",
      "provenance": [],
      "collapsed_sections": [],
      "toc_visible": true,
      "authorship_tag": "ABX9TyM+YlrPt/sdo3Ch9+k4cWNa",
      "include_colab_link": true
    },
    "kernelspec": {
      "name": "python3",
      "display_name": "Python 3"
    }
  },
  "cells": [
    {
      "cell_type": "markdown",
      "metadata": {
        "id": "view-in-github",
        "colab_type": "text"
      },
      "source": [
        "<a href=\"https://colab.research.google.com/github/MaschinenNah/MachineLearningKochbuch01/blob/main/03_BilderSkalieren.ipynb\" target=\"_parent\"><img src=\"https://colab.research.google.com/assets/colab-badge.svg\" alt=\"Open In Colab\"/></a>"
      ]
    },
    {
      "cell_type": "markdown",
      "metadata": {
        "id": "tmH4vLJ1ci1D"
      },
      "source": [
        "## Bilddatei bereitstellen\n",
        "Wir laden eine Beispieldatei. Nach der Ausführung der nächsten Zelle befindet sich eine Bilddatei `computer.jpg` im Dateibereich dieses Notebooks:"
      ]
    },
    {
      "cell_type": "code",
      "metadata": {
        "id": "n6gXEPpzaV_A"
      },
      "source": [
        "import urllib.request\n",
        "link = \"https://upload.wikimedia.org/wikipedia/commons/thumb/4/49/Science_museum_025_adjusted.jpg/800px-Science_museum_025_adjusted.jpg\"\n",
        "urllib.request.urlretrieve(link, \"computer.jpg\");"
      ],
      "execution_count": null,
      "outputs": []
    },
    {
      "cell_type": "markdown",
      "metadata": {
        "id": "D3HngC6W6OaK"
      },
      "source": [
        "## Bild skalieren und speichern\n",
        "\n",
        "Das Skalieren von Bildern erledigt unkompliziert `PIL.ImageOps.fit`:"
      ]
    },
    {
      "cell_type": "code",
      "metadata": {
        "id": "i9G69HgVgH8u"
      },
      "source": [
        "from PIL import Image\n",
        "from PIL import ImageOps\n",
        "\n",
        "img_filename = \"computer.jpg\"\n",
        "\n",
        "# Die gewünschten Abmessungen:\n",
        "target_width, target_height = 500, 300\n",
        "\n",
        "# Öffnen des Bildes mit PIL.Image.open:\n",
        "img = Image.open(img_filename)\n",
        "\n",
        "# Die Funktion PIL.ImageOps.fit skaliert das Bild auf die gewünschte Größe.\n",
        "# Wenn die Seitenverhältnisse abweichen, wird das Bild an den Rändern beschnitten.\n",
        "resized_img = ImageOps.fit(img, (target_width, target_height), Image.ANTIALIAS)\n",
        "\n",
        "# Speichern des Bildes unter einem neuen Namen:\n",
        "resized_img.save(\"resized_\"+img_filename)"
      ],
      "execution_count": null,
      "outputs": []
    },
    {
      "cell_type": "markdown",
      "metadata": {
        "id": "b6c1NI-wf2Ww"
      },
      "source": [
        "Ihr könnt euch das Originalbild und das skalierte Bild per Doppelklick auf die entsprechenden Dateien (siehe links) ansehen.\n",
        "\n",
        "Gegebenenfalls müsst ihr das Refresh-Symbol ![grafik.png](data:image/png;base64,iVBORw0KGgoAAAANSUhEUgAAAC0AAAAgCAIAAAAJ5mYTAAAACXBIWXMAAA7EAAAOxAGVKw4bAAABgElEQVRYhe2VrZKDMBCA05sziSWW2lTXEt1nqAaNJc+Ajqa2lbTPEDSWWmo3NpGc6E3n6LSU9IdD8EnYZD+yYXfWNA0aAV//LfDL5NFm8mgzebT57h9aVVWWZVrrq+dBEERR9KKHw3nclEAIFUWRZdmLHrP+/TQMwycSeJ4XRdFisegO+/j90Fr3OS2H+3Fms9k4xYdheLOaV4zlfxmLh3NdXOlZx/d7GGOKoqiqyhizXC6DIJBSIoSEEMN51HUtpdRaM8YAYLvd5nlOCKGUdi98p4cxJk1TSqkQglIKAGVZ5nmutR7UQyllrY3j+JxVKXU4HHqufafH8XhkjF0+nXN+aaOEkOE8rqCUPizHMx4YY2vtvSmTJAljbLfbAcDf9ACQJMl6vV6tVh2bO/SxOI49z7v3dr/fc84xxlJKALhISCkxxpzz7s0d5m0f6rpO09Ra6/s+Quh0OmGMhRDz+XxQD4SQMUYpVZYlIYQxxjl/eEk/4vEcY5lzk0ebyaPND5e8otTTF6FrAAAAAElFTkSuQmCC) anklicken."
      ]
    }
  ]
}