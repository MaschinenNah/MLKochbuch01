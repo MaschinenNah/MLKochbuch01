{
  "nbformat": 4,
  "nbformat_minor": 0,
  "metadata": {
    "colab": {
      "name": "FilmInFramesZerlegen.ipynb",
      "provenance": [],
      "collapsed_sections": [],
      "toc_visible": true,
      "authorship_tag": "ABX9TyM6bdEPQcnE/oP0Zf9Wm2ss",
      "include_colab_link": true
    },
    "kernelspec": {
      "name": "python3",
      "display_name": "Python 3"
    }
  },
  "cells": [
    {
      "cell_type": "markdown",
      "metadata": {
        "id": "view-in-github",
        "colab_type": "text"
      },
      "source": [
        "<a href=\"https://colab.research.google.com/github/MaschinenNah/MachineLearningKochbuch01/blob/main/05_FilmInFramesZerlegen.ipynb\" target=\"_parent\"><img src=\"https://colab.research.google.com/assets/colab-badge.svg\" alt=\"Open In Colab\"/></a>"
      ]
    },
    {
      "cell_type": "markdown",
      "metadata": {
        "id": "KZvqVqwIuaqr"
      },
      "source": [
        "# Filme in Einzelbilder zerlegen\n",
        "\n",
        "Dieses Notebook zeigt, wie ihr eine Filmdatei in Einzelbilder (=Frames) zerlegt und diese als Bilddateien abspeichert.\n"
      ]
    },
    {
      "cell_type": "markdown",
      "metadata": {
        "id": "R161coYSKE0m"
      },
      "source": [
        "### Module laden und importieren"
      ]
    },
    {
      "cell_type": "code",
      "metadata": {
        "id": "PglnPE0wKD2Y",
        "colab": {
          "base_uri": "https://localhost:8080/"
        },
        "outputId": "2245da42-b1f1-48f3-f310-ab82571c2ee1"
      },
      "source": [
        "!curl https://raw.githubusercontent.com/MaschinenNah/MaschinenLernerUtils/main/utils.py -o utils.py\n",
        "import utils"
      ],
      "execution_count": 4,
      "outputs": [
        {
          "output_type": "stream",
          "text": [
            "  % Total    % Received % Xferd  Average Speed   Time    Time     Time  Current\n",
            "                                 Dload  Upload   Total   Spent    Left  Speed\n",
            "\r  0     0    0     0    0     0      0      0 --:--:-- --:--:-- --:--:--     0\r100  1106  100  1106    0     0  21686      0 --:--:-- --:--:-- --:--:-- 21686\n"
          ],
          "name": "stdout"
        }
      ]
    },
    {
      "cell_type": "markdown",
      "metadata": {
        "id": "DC4ExTODvRlf"
      },
      "source": [
        "### Beispieldaten herunterladen\n",
        "\n",
        "Nach der Ausführung der folgenden Codezelle befindet sich unter `/content/data/movies` ein Verzeichnis mit drei Beispielfilmen.\n",
        "\n",
        "Eine Übersicht über die Dateien bekommst Du per Klick auf das Ordnersymbol links. Eventull musst Du die Darstellung mit einem Klick auf das \"refresh\"-Symbol ![grafik.png](data:image/png;base64,iVBORw0KGgoAAAANSUhEUgAAAB8AAAAaCAIAAADAARDdAAAACXBIWXMAAA7EAAAOxAGVKw4bAAABY0lEQVRIie3UoZKDMBAG4O3NmcQSS22qa4nuM1SDxpJnQEdT20raZwgaSy21G5tITnSG6UDaKaUVd3O/3Ml8syzJLrqug4/l63P0v/4g3+NS0zRFURhjBvUoipIkmaR7evfSAFBVVVEUk/TF+EbGcTyJuCYIgiRJVqvVbfFtczfGjL/MM/drdrvdJD2O4/E8/9iNfC3eSb6uW2urqmqaxlq7Xq+jKFJKAYCUcq7etq1SyhjDOUfE/X5fliWllDE2t3drbZ7njDEpJWMMEeu6LsvSGPMGXWvtnEvT9GpprU+nk/fkK/r5fOac920KIfonSimdqw/CGBsM5JFOCHHO3ds2WZZxzg+HAyLeooiYZdl2u91sNn3R85rSNA2C4F6nx+NRCEEIUUohYk8rpQghQojbw54d+Uzats3z3DkXhiEAXC4XQoiUcrlcvkEHAGut1rqua0op51wIMfils/Rn8pt35A9iYKLIwfOCHAAAAABJRU5ErkJggg==) aktualisieren."
      ]
    },
    {
      "cell_type": "code",
      "metadata": {
        "id": "xpmTUaoE6oH6"
      },
      "source": [
        "utils.load_and_unzip_from_url(\"http://pitnoack.de/mn/film_in_frames/data.zip\")"
      ],
      "execution_count": 6,
      "outputs": []
    },
    {
      "cell_type": "markdown",
      "metadata": {
        "id": "MaiKWWZmvhXg"
      },
      "source": [
        "## Film zerlegen und Dateien speichern\n",
        "\n",
        "Nach der Ausführung der folgenden Zelle befindet sich unter `/content/data/frames` ein Verzeichnis mit den Einzelbildern im jpg-Format. Der Dateiname setzt sich dann jeweils aus dem Namen der ursprünglichen Filmdatei und der Framenummer zusammen:\n",
        "\n",
        "weitsprung_0000.jpg\n",
        "\n",
        "weitsprung_0001.jpg\n",
        "\n",
        "weitsprung_0002.jpg\n",
        "\n",
        "etc..."
      ]
    },
    {
      "cell_type": "code",
      "metadata": {
        "id": "wuSRzgB08mq9"
      },
      "source": [
        "import cv2\n",
        "import numpy as np\n",
        "import os\n",
        "\n",
        "# Der Pfad auf den Film und der Dateiname ohne Endung:\n",
        "movie_path = \"/content/data/movies/weitsprung.mp4\"\n",
        "movie_filename = os.path.split(movie_path)[1]\n",
        "movie_filename = os.path.splitext(movie_filename)[0]\n",
        "\n",
        "# Hier sollen die einzelnen Bilder gespeichert werden:\n",
        "frame_path = \"/content/data/frames\"\n",
        "\n",
        "# Falls es dieses Verzeichnis noch nicht gibt, dann eines anlegen:\n",
        "if not os.path.exists(frame_path):\n",
        "  os.makedirs(frame_path)\n",
        "\n",
        "# Wir erzeugen ein Capture-Objekt und übergeben den Pfad auf das Video:\n",
        "cap = cv2.VideoCapture(movie_path)\n",
        "\n",
        "# Zähler für die Frames:\n",
        "current_frame = 0\n",
        "\n",
        "# Endlosschleife\n",
        "while(True):\n",
        "  # cap.read() liefert den jeweils nächsten Frame, sofern vorhanden.\n",
        "  # Der Rückgabewert ist ein zweistelliges Tupel.\n",
        "  # Der erste Wert ist True oder False\n",
        "  # True bedeutet: es gibt noch einen Frame!\n",
        "  # Der zweite Wert ist der Frame in Form eines Numpy-Arrays.\n",
        "  isFrame, frame = cap.read()\n",
        "\n",
        "  # Wenn es noch einen Frame gibt:\n",
        "  if isFrame:\n",
        "    # Baue einen Dateinamen zusammen:\n",
        "    path = frame_path  + '/' + movie_filename + \"_\" + str(current_frame).zfill(4) + '.jpg'\n",
        "    # Speichere den Frame unter dem Namen:\n",
        "    cv2.imwrite(path, frame)\n",
        "\n",
        "  # Wenn es keinen Frame mehr gibt aus der Endlosschleife springen\n",
        "  else:\n",
        "    break\n",
        "  \n",
        "  current_frame += 1\n",
        "\n",
        "cap.release()\n",
        "cv2.destroyAllWindows()"
      ],
      "execution_count": null,
      "outputs": []
    },
    {
      "cell_type": "markdown",
      "metadata": {
        "id": "wP2wS2j-F0te"
      },
      "source": [
        ""
      ]
    }
  ]
}