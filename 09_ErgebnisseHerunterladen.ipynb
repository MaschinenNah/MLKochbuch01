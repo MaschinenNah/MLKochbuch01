{
  "nbformat": 4,
  "nbformat_minor": 0,
  "metadata": {
    "colab": {
      "name": "ErgebnisseHerunterladen.ipynb",
      "provenance": [],
      "authorship_tag": "ABX9TyMNZouQYgiyAKd95ysBlDLQ",
      "include_colab_link": true
    },
    "kernelspec": {
      "name": "python3",
      "display_name": "Python 3"
    }
  },
  "cells": [
    {
      "cell_type": "markdown",
      "metadata": {
        "id": "view-in-github",
        "colab_type": "text"
      },
      "source": [
        "<a href=\"https://colab.research.google.com/github/MaschinenNah/MachineLearningKochbuch01/blob/main/09_ErgebnisseHerunterladen.ipynb\" target=\"_parent\"><img src=\"https://colab.research.google.com/assets/colab-badge.svg\" alt=\"Open In Colab\"/></a>"
      ]
    },
    {
      "cell_type": "markdown",
      "metadata": {
        "id": "LcDPi9pMoGM_"
      },
      "source": [
        "Leider lässt es Google Colab nicht zu, ein komplettes Verzeichnis (zu Beispiel mit Ergebnissen von Berechnungen) herunterzuladen.\n",
        "\n",
        "Um das hinzubekommen, müssen wir das Verzeichnis komprimieren."
      ]
    },
    {
      "cell_type": "markdown",
      "metadata": {
        "id": "ane1MlTDoY6x"
      },
      "source": [
        "Zunachst erzeugen wir ein Dummy Verzeichnis"
      ]
    },
    {
      "cell_type": "code",
      "metadata": {
        "id": "UwPZY4lSmbxq"
      },
      "source": [
        "import os\n",
        "\n",
        "os.mkdir(\"files\")\n",
        "\n",
        "for idx in range(10):\n",
        "  f = open(\"files/file\"+str(idx)+\".txt\", \"w\")\n",
        "  f.close()\n"
      ],
      "execution_count": null,
      "outputs": []
    },
    {
      "cell_type": "markdown",
      "metadata": {
        "id": "srpIsaXDocx5"
      },
      "source": [
        "Ein Linux Befehl zipt das Verzeichnis. Nach der Ausführung der folgenden findet ihr es im Dateibereich:"
      ]
    },
    {
      "cell_type": "code",
      "metadata": {
        "colab": {
          "base_uri": "https://localhost:8080/"
        },
        "id": "Tl44tAD8mXwI",
        "outputId": "fd469a97-cd82-4421-bc43-357c29dd3a6e"
      },
      "source": [
        "!zip -r /content/files.zip /content/files"
      ],
      "execution_count": null,
      "outputs": [
        {
          "output_type": "stream",
          "text": [
            "  adding: content/files/ (stored 0%)\n",
            "  adding: content/files/file7.txt (stored 0%)\n",
            "  adding: content/files/file4.txt (stored 0%)\n",
            "  adding: content/files/file0.txt (stored 0%)\n",
            "  adding: content/files/file9.txt (stored 0%)\n",
            "  adding: content/files/file6.txt (stored 0%)\n",
            "  adding: content/files/file5.txt (stored 0%)\n",
            "  adding: content/files/file1.txt (stored 0%)\n",
            "  adding: content/files/file8.txt (stored 0%)\n",
            "  adding: content/files/file2.txt (stored 0%)\n",
            "  adding: content/files/file3.txt (stored 0%)\n"
          ],
          "name": "stdout"
        }
      ]
    }
  ]
}